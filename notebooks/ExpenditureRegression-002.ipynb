{
 "cells": [
  {
   "cell_type": "code",
   "execution_count": 649,
   "metadata": {},
   "outputs": [],
   "source": [
    "import pandas as pd\n",
    "import numpy as np\n",
    "from sklearn import preprocessing\n",
    "import os"
   ]
  },
  {
   "cell_type": "code",
   "execution_count": 650,
   "metadata": {
    "collapsed": true
   },
   "outputs": [],
   "source": [
    "# Features used in the regression model:\n",
    "# 'CustomerID','Education','Occupation','Gender','MaritalStatus','NumberCarsOwned', \n",
    "# 'NumberChildrenAtHome','TotalChildren','HomeOwnerFlag','Age','IncomeNorm', \n",
    "# 'BikeBuyer', 'AvgMonthSpend']"
   ]
  },
  {
   "cell_type": "code",
   "execution_count": 651,
   "metadata": {},
   "outputs": [],
   "source": [
    "# Read Customers Database\n",
    "path = (r'C:\\Home\\Ser\\MOOCs\\MSDataProg\\Project\\AWCustomers\\Datasets')\n",
    "filename = 'CustomersDatabase002.csv'\n",
    "pathfile= os.path.join(path,filename)  \n",
    "df = pd.read_csv(pathfile, sep=',', index_col=0)\n",
    "\n",
    "# Group 'NumberCarsOwned' into [0,1,>1] instead of [0,1,2,3,4,5]\n",
    "df['NumberCarsOwned'].replace([2,3,4,5],'>1',inplace=True)\n",
    "\n",
    "df.reset_index(inplace=True, drop=True) # CustomerID is removed here\n",
    "\n",
    "# Remove features not to be used in the regression model, such as 'BikeBuyer'\n",
    "# Remove features ranked low in the feature_importance output\n",
    "dropcols = ['BikeBuyer','HomeOwnerFlag', 'NumberCarsOwned', 'TotalChildren']\n",
    "df.drop(dropcols, axis=1, inplace=True)\n",
    "data=df"
   ]
  },
  {
   "cell_type": "code",
   "execution_count": 652,
   "metadata": {
    "collapsed": true
   },
   "outputs": [],
   "source": [
    "# ID of selected customers to calculate their AvgMonthSpend\n",
    "SelectedCustomers = [11908,12286,12892,14698,15085,15727,17418,17723,18644,19218,20671,20697,20734,\n",
    "                     20812,23244,23454,24420,25193,25793,26410,26694,28096,28676,29015,29377]"
   ]
  },
  {
   "cell_type": "code",
   "execution_count": 653,
   "metadata": {},
   "outputs": [],
   "source": [
    "# Read  dataset to estimate regression (AWTest-regression)\n",
    "path = (r'C:\\Home\\Ser\\MOOCs\\MSDataProg\\Project\\AWCustomers\\Datasets')\n",
    "filename = 'CustomersTest002.csv'  \n",
    "pathfile= os.path.join(path,filename)  \n",
    "df_reg = pd.read_csv(pathfile, sep=',', index_col=0)\n",
    "df_reg = df_reg.ix[SelectedCustomers]\n",
    "df_reg.reset_index(inplace=True,drop=True)\n",
    "dropcols = ['TotalChildren','HomeOwnerFlag', 'NumberCarsOwned']\n",
    "df_reg.drop(dropcols, axis=1, inplace=True)\n",
    "#df_reg"
   ]
  },
  {
   "cell_type": "code",
   "execution_count": 654,
   "metadata": {},
   "outputs": [],
   "source": [
    "y_data = data['AvgMonthSpend'].copy()\n",
    "data.drop(['AvgMonthSpend'], axis=1, inplace=True)"
   ]
  },
  {
   "cell_type": "code",
   "execution_count": 655,
   "metadata": {},
   "outputs": [],
   "source": [
    "dummies=['Education',\n",
    "         'Occupation',\n",
    "         'Gender',\n",
    "         'MaritalStatus',         \n",
    "         'NumberChildrenAtHome']\n",
    "         #'NumberCarsOwned' removed due to low importance\n",
    "         #'HomeOwnerFlag', removed due to low importance\n",
    "         #'TotalChildren', removed due to low importance\n",
    "x_data = pd.get_dummies(data, columns=dummies)\n",
    "x_reg = pd.get_dummies(df_reg, columns=dummies)\n",
    "\n",
    "# Padd with Zeroes missing columns in x_reg\n",
    "for col in x_data.columns:\n",
    "    if col not in x_reg.columns:\n",
    "        x_reg[col]=0 "
   ]
  },
  {
   "cell_type": "code",
   "execution_count": 656,
   "metadata": {},
   "outputs": [],
   "source": [
    "# Select Data Normalization method with i\n",
    "i=0\n",
    "if i==0:   #65.44 \n",
    "    scalername='None'\n",
    "    xnorm= x_data  \n",
    "elif i ==2: #65.45\n",
    "    scaler = preprocessing.MinMaxScaler().fit(x_data)\n",
    "    xnorm=scaler.transform(x_data)\n",
    "elif i ==3: #65.44   \n",
    "    scaler = preprocessing.StandardScaler().fit(x_data)\n",
    "    xnorm=scaler.transform(x_data)\n",
    "elif i==4: #65.45\n",
    "    scaler = preprocessing.MaxAbsScaler().fit(x_data)\n",
    "    xnorm=scaler.transform(x_data)"
   ]
  },
  {
   "cell_type": "code",
   "execution_count": 657,
   "metadata": {},
   "outputs": [],
   "source": [
    "from sklearn.model_selection import train_test_split\n",
    "(xtrain, xtest, ytrain, ytest) = train_test_split(xnorm, y_data, test_size=0.3, random_state=0)"
   ]
  },
  {
   "cell_type": "code",
   "execution_count": 658,
   "metadata": {},
   "outputs": [],
   "source": [
    "# =DECISION TREE==========\n",
    "from sklearn import tree\n",
    "model = tree.DecisionTreeRegressor(max_depth=7, random_state=None,splitter='best')\n",
    "model.fit(xtrain,ytrain)\n",
    "featureimp=pd.DataFrame(model.feature_importances_,index=x_data.columns,columns=['rank'])\n",
    "topfeatures= featureimp.sort_values('rank', ascending=False) \n",
    "DTscore=model.score(xtest,ytest)\n",
    "DTpredict=model.predict(x_reg)"
   ]
  },
  {
   "cell_type": "code",
   "execution_count": 660,
   "metadata": {},
   "outputs": [
    {
     "name": "stdout",
     "output_type": "stream",
     "text": [
      "Decision Tree Score:65.448\n",
      "Features Rank:                                   rank\n",
      "Age                            0.308195\n",
      "Occupation_Manual              0.280719\n",
      "Occupation_Skilled Manual      0.122171\n",
      "Gender_F                       0.080301\n",
      "Gender_M                       0.068211\n",
      "NumberChildrenAtHome_0         0.051384\n",
      "Occupation_Clerical            0.028239\n",
      "MaritalStatus_M                0.021813\n",
      "MaritalStatus_S                0.016184\n",
      "IncomeNorm                     0.012999\n",
      "NumberChildrenAtHome_1         0.003447\n",
      "Occupation_Management          0.003363\n",
      "Occupation_Professional        0.002077\n",
      "Education_Bachelors            0.000296\n",
      "Education_Partial College      0.000250\n",
      "Education_Graduate Degree      0.000229\n",
      "Education_High School          0.000122\n",
      "Education_Partial High School  0.000000\n",
      "NumberChildrenAtHome_2         0.000000\n",
      "NumberChildrenAtHome_3         0.000000\n",
      "Decision Tree Prediction: \n",
      "[ 49.05053333  49.05053333  49.05053333  50.31865854  48.36216216\n",
      "  48.81103448  52.95290323  52.77275132  55.02865079  57.11068273\n",
      "  52.52364706  51.95864706  52.37015873  54.34849206  51.95864706\n",
      "  54.34849206  55.52068093  55.02865079  52.94091603  54.34849206\n",
      "  53.31433692  50.82772321  52.09997455  55.06473118  52.94091603]\n"
     ]
    }
   ],
   "source": [
    "# Results\n",
    "\n",
    "#print \"RandomForest Score:{}\".format(round(RFscore*100, 3))\n",
    "print \"Decision Tree Score:{}\".format(round((DTscore*100),3))\n",
    "print \"Features Rank:{}\".format(topfeatures)\n",
    "#print \"Random Forest Prediction:{}\".format(RFpredict)\n",
    "print \"Decision Tree Prediction: \\n{}\".format(DTpredict)\n"
   ]
  }
 ],
 "metadata": {
  "anaconda-cloud": {},
  "kernelspec": {
   "display_name": "Python [conda root]",
   "language": "python",
   "name": "conda-root-py"
  },
  "language_info": {
   "codemirror_mode": {
    "name": "ipython",
    "version": 2
   },
   "file_extension": ".py",
   "mimetype": "text/x-python",
   "name": "python",
   "nbconvert_exporter": "python",
   "pygments_lexer": "ipython2",
   "version": "2.7.13"
  }
 },
 "nbformat": 4,
 "nbformat_minor": 1
}
